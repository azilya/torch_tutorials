{
  "cells": [
    {
      "cell_type": "markdown",
      "metadata": {
        "colab_type": "text",
        "id": "view-in-github"
      },
      "source": [
        "<a href=\"https://colab.research.google.com/github/azilya/torch_tutorials/blob/main/lstm_example.ipynb\" target=\"_parent\"><img src=\"https://colab.research.google.com/assets/colab-badge.svg\" alt=\"Open In Colab\"/></a>"
      ]
    },
    {
      "cell_type": "markdown",
      "metadata": {
        "id": "hW7uz-uN1Cb0"
      },
      "source": [
        "Imports"
      ]
    },
    {
      "cell_type": "code",
      "execution_count": 1,
      "metadata": {
        "colab": {
          "base_uri": "https://localhost:8080/"
        },
        "id": "KZikCbD08ab8",
        "outputId": "430b4fe1-2ab9-46f7-fc8b-2a79fe2adabc"
      },
      "outputs": [],
      "source": [
        "import re\n",
        "from string import punctuation\n",
        "\n",
        "import nltk\n",
        "import numpy as np\n",
        "import torch\n",
        "import torch.nn as nn\n",
        "from sklearn.model_selection import train_test_split\n",
        "from torch.utils.data import DataLoader, TensorDataset\n",
        "from tqdm import tqdm\n",
        "\n",
        "# nltk.download(\"punkt\")\n"
      ]
    },
    {
      "cell_type": "markdown",
      "metadata": {
        "id": "Gt3aNpPCz84g"
      },
      "source": [
        "### Downloading a text to train on\n",
        "For Russian language there is an [official open collection of epub books](https://www.culture.ru/literature/books), but they need to be converted to `.txt` for parsing, so additional conversion is required, eg:\n",
        "\n",
        "```sh\n",
        "wget https://cdn.culture.ru/files/f833392d-c53f-5a39-a1c7-b4611b2ffdd6/idiot\n",
        "epub2txt -r idiot > idiot.txt\n",
        "```\n",
        "\n"
      ]
    },
    {
      "cell_type": "markdown",
      "metadata": {
        "id": "cOUHWH_PvtdB"
      },
      "source": [
        "Preprocess text.\n",
        "\n",
        "We replace punctuation to simplify predictions, leaving `.` to be able to predict sentence end. "
      ]
    },
    {
      "cell_type": "code",
      "execution_count": null,
      "metadata": {
        "colab": {
          "base_uri": "https://localhost:8080/"
        },
        "id": "XOMk3yhK8yNS",
        "outputId": "5a54cd29-5f80-4965-d19d-99c6c840d936"
      },
      "outputs": [],
      "source": [
        "punctuation.replace(\".\", \"\") += \"«»„“”‛’—–‒\"\n",
        "RE_PUNCT = re.compile(f\"[{re.escape(punctuation)}]\")\n",
        "\n",
        "\n",
        "def clean(line):\n",
        "  sents = nltk.sent_tokenize(line, language=\"russian\")\n",
        "  sents_p = [re.sub(RE_PUNCT, \" \", s) for s in sents]\n",
        "  sents_s = [re.sub(r\"\\s+\", \" \", s).lower().strip() for s in sents_p]\n",
        "  return sents_s\n",
        "\n",
        "\n",
        "sentences = []\n",
        "with open(\"idiot.txt\") as corpus:\n",
        "  for i, line in tqdm(enumerate(corpus)):\n",
        "    # top 15 lines are the header with annotation etc.\n",
        "    if i < 15:\n",
        "      continue\n",
        "    if len(line.strip()) > 0:\n",
        "      sentences.extend(clean(line))\n",
        "\n",
        "preprocessed_text = \" \".join(sentences)\n",
        "all_chars = sorted(list(set(preprocessed_text)))\n",
        "seq_len = 100\n"
      ]
    },
    {
      "cell_type": "code",
      "execution_count": 5,
      "metadata": {
        "id": "4Ebty2yU81jX"
      },
      "outputs": [],
      "source": [
        "torch.manual_seed(1)\n",
        "torch.cuda.manual_seed(1)\n",
        "np.random.seed(1)\n",
        "\n",
        "class CharModel(nn.Module):\n",
        "    def __init__(self, vocab_size, emb_size, hid_size=256) -> None:\n",
        "      super().__init__()\n",
        "      self.emb = nn.Embedding(vocab_size, emb_size)\n",
        "      self.lstm = nn.LSTM(\n",
        "        emb_size,\n",
        "        hid_size,\n",
        "        num_layers=2,\n",
        "        batch_first=True,\n",
        "        dropout=0.2\n",
        "      )\n",
        "      self.dropout = nn.Dropout(0.2)\n",
        "      self.linear = nn.Linear(hid_size, vocab_size)\n",
        "\n",
        "    def forward(self, x):\n",
        "      x = self.emb(x)\n",
        "      x, _ = self.lstm(x)\n",
        "      # predict only based on last output\n",
        "      x = x[:, -1, :]\n",
        "      x = self.dropout(x)\n",
        "      return self.linear(x)\n",
        "\n",
        "\n",
        "model = CharModel(vocab_size=len(all_chars), emb_size=100)\n",
        "model.cuda()\n",
        "loss_fn = nn.CrossEntropyLoss()\n",
        "optimizer = torch.optim.AdamW(model.parameters())\n"
      ]
    },
    {
      "cell_type": "markdown",
      "metadata": {},
      "source": [
        "Create datasets.\n",
        "\n",
        "Input: sequence of `seq_len`, target: next character."
      ]
    },
    {
      "cell_type": "code",
      "execution_count": 6,
      "metadata": {
        "colab": {
          "base_uri": "https://localhost:8080/"
        },
        "id": "gTvSANAs9USn",
        "outputId": "4f364bd6-99bb-416f-a934-f06956f6ed50"
      },
      "outputs": [
        {
          "name": "stderr",
          "output_type": "stream",
          "text": [
            "100%|██████████| 1609/1609 [00:00<00:00, 1894.05it/s]\n"
          ]
        }
      ],
      "source": [
        "X_s = []\n",
        "y_s = []\n",
        "for i in range(len(preprocessed_text) - seq_len):\n",
        "  seq = sent[i : i + seq_len]\n",
        "  X = [all_chars.index(c) for c in seq]\n",
        "  y = all_chars.index(sent[i + seq_len])\n",
        "  X_s.append(X)\n",
        "  y_s.append(y)\n",
        "\n",
        "\n",
        "# X_s = np.array(X_s) / len(all_chars)\n",
        "# y_s = np.array(y_s) / len(all_chars)\n",
        "dataset = TensorDataset(torch.tensor(X_s), torch.tensor(y_s))\n",
        "\n",
        "train_set, test_set = train_test_split(dataset, test_size=0.15)\n"
      ]
    },
    {
      "cell_type": "markdown",
      "metadata": {},
      "source": [
        "Prepare training environment: variables, train+eval loop and start training."
      ]
    },
    {
      "cell_type": "code",
      "execution_count": 7,
      "metadata": {
        "id": "b8vXh-Rca8hI"
      },
      "outputs": [],
      "source": [
        "n_epochs = 5\n",
        "batch_size = 64\n",
        "log_steps = 1_000\n",
        "\n",
        "train_loader = DataLoader(train_set, shuffle=True, batch_size=batch_size)\n",
        "test_loader = DataLoader(test_set, shuffle=False, batch_size=batch_size)\n"
      ]
    },
    {
      "cell_type": "code",
      "execution_count": 8,
      "metadata": {
        "id": "yigWIR9I9XB1"
      },
      "outputs": [
        {
          "ename": "KeyboardInterrupt",
          "evalue": "",
          "output_type": "error",
          "traceback": [
            "\u001b[0;31m---------------------------------------------------------------------------\u001b[0m",
            "\u001b[0;31mKeyboardInterrupt\u001b[0m                         Traceback (most recent call last)",
            "\u001b[1;32m/home/illya/github/torch_tutorials/lstm_example.ipynb Cell 12\u001b[0m line \u001b[0;36m8\n\u001b[1;32m      <a href='vscode-notebook-cell://wsl%2Bubuntu/home/illya/github/torch_tutorials/lstm_example.ipynb#X14sdnNjb2RlLXJlbW90ZQ%3D%3D?line=5'>6</a>\u001b[0m pred \u001b[39m=\u001b[39m model(inputs)\n\u001b[1;32m      <a href='vscode-notebook-cell://wsl%2Bubuntu/home/illya/github/torch_tutorials/lstm_example.ipynb#X14sdnNjb2RlLXJlbW90ZQ%3D%3D?line=6'>7</a>\u001b[0m loss \u001b[39m=\u001b[39m loss_fn(pred, truth)\n\u001b[0;32m----> <a href='vscode-notebook-cell://wsl%2Bubuntu/home/illya/github/torch_tutorials/lstm_example.ipynb#X14sdnNjb2RlLXJlbW90ZQ%3D%3D?line=7'>8</a>\u001b[0m loss\u001b[39m.\u001b[39;49mbackward()\n\u001b[1;32m      <a href='vscode-notebook-cell://wsl%2Bubuntu/home/illya/github/torch_tutorials/lstm_example.ipynb#X14sdnNjb2RlLXJlbW90ZQ%3D%3D?line=8'>9</a>\u001b[0m optimizer\u001b[39m.\u001b[39mstep()\n\u001b[1;32m     <a href='vscode-notebook-cell://wsl%2Bubuntu/home/illya/github/torch_tutorials/lstm_example.ipynb#X14sdnNjb2RlLXJlbW90ZQ%3D%3D?line=9'>10</a>\u001b[0m optimizer\u001b[39m.\u001b[39mzero_grad()\n",
            "File \u001b[0;32m~/.pyenv/versions/aps-venv/lib/python3.10/site-packages/torch/_tensor.py:492\u001b[0m, in \u001b[0;36mTensor.backward\u001b[0;34m(self, gradient, retain_graph, create_graph, inputs)\u001b[0m\n\u001b[1;32m    482\u001b[0m \u001b[39mif\u001b[39;00m has_torch_function_unary(\u001b[39mself\u001b[39m):\n\u001b[1;32m    483\u001b[0m     \u001b[39mreturn\u001b[39;00m handle_torch_function(\n\u001b[1;32m    484\u001b[0m         Tensor\u001b[39m.\u001b[39mbackward,\n\u001b[1;32m    485\u001b[0m         (\u001b[39mself\u001b[39m,),\n\u001b[0;32m   (...)\u001b[0m\n\u001b[1;32m    490\u001b[0m         inputs\u001b[39m=\u001b[39minputs,\n\u001b[1;32m    491\u001b[0m     )\n\u001b[0;32m--> 492\u001b[0m torch\u001b[39m.\u001b[39;49mautograd\u001b[39m.\u001b[39;49mbackward(\n\u001b[1;32m    493\u001b[0m     \u001b[39mself\u001b[39;49m, gradient, retain_graph, create_graph, inputs\u001b[39m=\u001b[39;49minputs\n\u001b[1;32m    494\u001b[0m )\n",
            "File \u001b[0;32m~/.pyenv/versions/aps-venv/lib/python3.10/site-packages/torch/autograd/__init__.py:251\u001b[0m, in \u001b[0;36mbackward\u001b[0;34m(tensors, grad_tensors, retain_graph, create_graph, grad_variables, inputs)\u001b[0m\n\u001b[1;32m    246\u001b[0m     retain_graph \u001b[39m=\u001b[39m create_graph\n\u001b[1;32m    248\u001b[0m \u001b[39m# The reason we repeat the same comment below is that\u001b[39;00m\n\u001b[1;32m    249\u001b[0m \u001b[39m# some Python versions print out the first line of a multi-line function\u001b[39;00m\n\u001b[1;32m    250\u001b[0m \u001b[39m# calls in the traceback and some print out the last line\u001b[39;00m\n\u001b[0;32m--> 251\u001b[0m Variable\u001b[39m.\u001b[39;49m_execution_engine\u001b[39m.\u001b[39;49mrun_backward(  \u001b[39m# Calls into the C++ engine to run the backward pass\u001b[39;49;00m\n\u001b[1;32m    252\u001b[0m     tensors,\n\u001b[1;32m    253\u001b[0m     grad_tensors_,\n\u001b[1;32m    254\u001b[0m     retain_graph,\n\u001b[1;32m    255\u001b[0m     create_graph,\n\u001b[1;32m    256\u001b[0m     inputs,\n\u001b[1;32m    257\u001b[0m     allow_unreachable\u001b[39m=\u001b[39;49m\u001b[39mTrue\u001b[39;49;00m,\n\u001b[1;32m    258\u001b[0m     accumulate_grad\u001b[39m=\u001b[39;49m\u001b[39mTrue\u001b[39;49;00m,\n\u001b[1;32m    259\u001b[0m )\n",
            "\u001b[0;31mKeyboardInterrupt\u001b[0m: "
          ]
        }
      ],
      "source": [
        "step = 0\n",
        "for e in range(n_epochs):\n",
        "  model.train()\n",
        "  for batch in train_loader:\n",
        "    inputs, truth = (t.to(\"cuda\") for t in batch)\n",
        "    pred = model(inputs)\n",
        "    loss = loss_fn(pred, truth)\n",
        "    loss.backward()\n",
        "    optimizer.step()\n",
        "    optimizer.zero_grad()\n",
        "    step += 1\n",
        "    if step % log_steps == 0:\n",
        "      print(f\"Step={step} {loss=:.4f}\")\n",
        "  model.eval()\n",
        "  eval_loss = 0\n",
        "  for batch in test_loader:\n",
        "    inputs, truth = (t.to(\"cuda\") for t in batch)\n",
        "    with torch.no_grad():\n",
        "      pred = model(inputs)\n",
        "      loss = loss_fn(pred, truth)\n",
        "    eval_loss += loss.detach().cpu().item()\n",
        "  eval_loss /= len(test_loader)\n",
        "  print(f\"=== Epoch {e} eval loss: {eval_loss:.4f} ===\")\n"
      ]
    },
    {
      "cell_type": "code",
      "execution_count": null,
      "metadata": {
        "id": "9XZdNIhucucv"
      },
      "outputs": [],
      "source": []
    }
  ],
  "metadata": {
    "accelerator": "GPU",
    "colab": {
      "authorship_tag": "ABX9TyMvfle+KoNAFEw/gmJzWDB5",
      "gpuType": "T4",
      "include_colab_link": true,
      "provenance": []
    },
    "kernelspec": {
      "display_name": "Python 3",
      "name": "python3"
    },
    "language_info": {
      "codemirror_mode": {
        "name": "ipython",
        "version": 3
      },
      "file_extension": ".py",
      "mimetype": "text/x-python",
      "name": "python",
      "nbconvert_exporter": "python",
      "pygments_lexer": "ipython3",
      "version": "3.10.12"
    }
  },
  "nbformat": 4,
  "nbformat_minor": 0
}
