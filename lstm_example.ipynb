{
  "nbformat": 4,
  "nbformat_minor": 0,
  "metadata": {
    "colab": {
      "provenance": [],
      "gpuType": "T4",
      "authorship_tag": "ABX9TyOyLjbE5W3UhWCW+jCwMPgk",
      "include_colab_link": true
    },
    "kernelspec": {
      "name": "python3",
      "display_name": "Python 3"
    },
    "language_info": {
      "name": "python"
    },
    "accelerator": "GPU"
  },
  "cells": [
    {
      "cell_type": "markdown",
      "metadata": {
        "id": "view-in-github",
        "colab_type": "text"
      },
      "source": [
        "<a href=\"https://colab.research.google.com/github/azilya/torch_tutorials/blob/main/lstm_example.ipynb\" target=\"_parent\"><img src=\"https://colab.research.google.com/assets/colab-badge.svg\" alt=\"Open In Colab\"/></a>"
      ]
    },
    {
      "cell_type": "code",
      "execution_count": null,
      "metadata": {
        "id": "KZikCbD08ab8"
      },
      "outputs": [],
      "source": [
        "import re\n",
        "from string import punctuation\n",
        "\n",
        "import numpy as np\n",
        "import torch\n",
        "import torch.nn as nn\n",
        "from sklearn.model_selection import train_test_split\n",
        "from torch.utils.data import DataLoader, TensorDataset\n",
        "from tqdm import tqdm"
      ]
    },
    {
      "cell_type": "code",
      "source": [
        "punctuation += \"«»„“”‛’—–‒\"\n",
        "RE_PUNCT = re.compile(f\"[{re.escape(punctuation)}]\")\n",
        "\n",
        "\n",
        "def clean(_str):\n",
        "    _str0 = re.sub(RE_PUNCT, \"\", _str)\n",
        "    res = re.sub(r\"\\s+\", \" \", _str0).lower()\n",
        "    return res.strip() + \".\"\n",
        "\n",
        "\n",
        "sentences = []\n",
        "with open(\"train_0.txt\") as corpus:\n",
        "    for line in tqdm(corpus):\n",
        "        if len(line.strip()) > 0:\n",
        "            sentences.append(clean(line))\n",
        "\n",
        "all_chars = sorted(list(set(\"\".join(sentences))))\n",
        "seq_len = 100"
      ],
      "metadata": {
        "colab": {
          "base_uri": "https://localhost:8080/"
        },
        "id": "XOMk3yhK8yNS",
        "outputId": "a34eca98-1c32-40f2-cbf2-e4cc161d62cf"
      },
      "execution_count": null,
      "outputs": [
        {
          "output_type": "stream",
          "name": "stderr",
          "text": [
            "11326it [00:00, 36601.30it/s]\n"
          ]
        }
      ]
    },
    {
      "cell_type": "code",
      "source": [
        "torch.manual_seed(1)\n",
        "torch.cuda.manual_seed(1)\n",
        "\n",
        "class CharModel(nn.Module):\n",
        "    def __init__(self, vocab_size, emb_size, hid_size=256) -> None:\n",
        "        super().__init__()\n",
        "        self.emb = nn.Embedding(vocab_size, emb_size)\n",
        "        self.lstm = nn.LSTM(\n",
        "            emb_size,\n",
        "            hid_size,\n",
        "            num_layers=2,\n",
        "            batch_first=True,\n",
        "            dropout=0.2,\n",
        "            bidirectional=True,\n",
        "        )\n",
        "        self.dropout = nn.Dropout(0.2)\n",
        "        self.activation = nn.Softmax(dim=-1)\n",
        "        self.linear = nn.Linear(hid_size * 2, vocab_size)\n",
        "\n",
        "    def forward(self, x):\n",
        "        x = self.emb(x)\n",
        "        x, _ = self.lstm(x)\n",
        "        x = x[:, -1, :]\n",
        "        x = self.linear(self.activation(self.dropout(x)))\n",
        "        return x\n",
        "\n",
        "\n",
        "model = CharModel(vocab_size=len(all_chars), emb_size=seq_len)\n",
        "model.cuda()\n",
        "loss_fn = nn.CrossEntropyLoss()\n",
        "optimizer = torch.optim.AdamW(model.parameters())"
      ],
      "metadata": {
        "id": "4Ebty2yU81jX"
      },
      "execution_count": null,
      "outputs": []
    },
    {
      "cell_type": "code",
      "source": [
        "X_s = []\n",
        "y_s = []\n",
        "for sent in tqdm(sentences):\n",
        "    for i in range(len(sent) - seq_len):\n",
        "        seq = sent[i : i + seq_len]\n",
        "        X = [all_chars.index(c) for c in seq]\n",
        "        y = all_chars.index(sent[i + seq_len])\n",
        "        X_s.append(X)\n",
        "        y_s.append(y)\n",
        "\n",
        "\n",
        "# X_s = np.array(X_s) / len(all_chars)\n",
        "# y_s = np.array(y_s) / len(all_chars)\n",
        "dataset = TensorDataset(torch.tensor(X_s), torch.tensor(y_s))\n",
        "\n",
        "train_set, test_set = train_test_split(dataset, test_size=0.15)"
      ],
      "metadata": {
        "colab": {
          "base_uri": "https://localhost:8080/"
        },
        "id": "gTvSANAs9USn",
        "outputId": "e9233b91-6217-4108-ab80-c3135917c324"
      },
      "execution_count": null,
      "outputs": [
        {
          "output_type": "stream",
          "name": "stderr",
          "text": [
            "100%|██████████| 5663/5663 [02:32<00:00, 37.12it/s]\n"
          ]
        }
      ]
    },
    {
      "cell_type": "code",
      "source": [
        "n_epochs = 10\n",
        "batch_size = 128\n",
        "log_steps = 10000\n",
        "\n",
        "train_loader = DataLoader(train_set, shuffle=True, batch_size=batch_size)\n",
        "test_loader = DataLoader(test_set, shuffle=False, batch_size=batch_size)"
      ],
      "metadata": {
        "id": "b8vXh-Rca8hI"
      },
      "execution_count": null,
      "outputs": []
    },
    {
      "cell_type": "code",
      "source": [
        "step = 0\n",
        "for e in range(n_epochs):\n",
        "  model.train()\n",
        "  for batch in train_loader:\n",
        "    inputs, truth = (t.to(\"cuda\") for t in batch)\n",
        "    pred = model(inputs)\n",
        "    loss = loss_fn(pred, truth)\n",
        "    loss.backward()\n",
        "    optimizer.step()\n",
        "    optimizer.zero_grad()\n",
        "    step += 1\n",
        "    if step % log_steps == 0:\n",
        "      print(f\"Step={step} {loss=:.4f}\")\n",
        "  model.eval()\n",
        "  eval_loss = 0\n",
        "  for batch in test_loader:\n",
        "    inputs, truth = (t.to(\"cuda\") for t in batch)\n",
        "    with torch.no_grad():\n",
        "      pred = model(inputs)\n",
        "      loss = loss_fn(pred, truth)\n",
        "    eval_loss += loss.detach().cpu().item()\n",
        "  eval_loss /= len(test_loader)\n",
        "  print(f\"=== Epoch {e} eval loss: {eval_loss:.4f} ===\")"
      ],
      "metadata": {
        "colab": {
          "base_uri": "https://localhost:8080/"
        },
        "id": "yigWIR9I9XB1",
        "outputId": "57c779c8-8135-4efc-d9ac-4409fe4ba1b5"
      },
      "execution_count": null,
      "outputs": [
        {
          "output_type": "stream",
          "name": "stdout",
          "text": [
            "Step=10000 loss=2.9970\n",
            "=== Epoch 0 eval loss: 2.8283 ===\n",
            "Step=20000 loss=2.4698\n"
          ]
        }
      ]
    },
    {
      "cell_type": "code",
      "source": [],
      "metadata": {
        "id": "9XZdNIhucucv"
      },
      "execution_count": null,
      "outputs": []
    }
  ]
}