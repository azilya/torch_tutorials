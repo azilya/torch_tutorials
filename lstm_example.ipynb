{
  "nbformat": 4,
  "nbformat_minor": 0,
  "metadata": {
    "colab": {
      "provenance": [],
      "gpuType": "T4",
      "authorship_tag": "ABX9TyP2uCnlScyMK9ddt4oGulCW",
      "include_colab_link": true
    },
    "kernelspec": {
      "name": "python3",
      "display_name": "Python 3"
    },
    "language_info": {
      "name": "python"
    },
    "accelerator": "GPU"
  },
  "cells": [
    {
      "cell_type": "markdown",
      "metadata": {
        "id": "view-in-github",
        "colab_type": "text"
      },
      "source": [
        "<a href=\"https://colab.research.google.com/github/azilya/torch_tutorials/blob/main/lstm_example.ipynb\" target=\"_parent\"><img src=\"https://colab.research.google.com/assets/colab-badge.svg\" alt=\"Open In Colab\"/></a>"
      ]
    },
    {
      "cell_type": "markdown",
      "source": [
        "## Imports of required libs"
      ],
      "metadata": {
        "id": "hW7uz-uN1Cb0"
      }
    },
    {
      "cell_type": "code",
      "execution_count": 8,
      "metadata": {
        "id": "KZikCbD08ab8",
        "colab": {
          "base_uri": "https://localhost:8080/"
        },
        "outputId": "430b4fe1-2ab9-46f7-fc8b-2a79fe2adabc"
      },
      "outputs": [
        {
          "output_type": "stream",
          "name": "stderr",
          "text": [
            "[nltk_data] Downloading package punkt to /root/nltk_data...\n",
            "[nltk_data]   Unzipping tokenizers/punkt.zip.\n"
          ]
        },
        {
          "output_type": "execute_result",
          "data": {
            "text/plain": [
              "True"
            ]
          },
          "metadata": {},
          "execution_count": 8
        }
      ],
      "source": [
        "import re\n",
        "from string import punctuation\n",
        "\n",
        "import nltk\n",
        "import numpy as np\n",
        "import torch\n",
        "import torch.nn as nn\n",
        "from sklearn.model_selection import train_test_split\n",
        "from torch.utils.data import DataLoader, TensorDataset\n",
        "from tqdm import tqdm\n",
        "\n",
        "nltk.download(\"punkt\")"
      ]
    },
    {
      "cell_type": "markdown",
      "source": [
        "## Downloading a text to train on\n",
        "For Russian language there is an [official open collection of epub books](https://www.culture.ru/literature/books), but they need to be converted to `.txt` for parsing, so additional conversion is required, eg:\n",
        "\n",
        "```sh\n",
        "wget https://cdn.culture.ru/files/f833392d-c53f-5a39-a1c7-b4611b2ffdd6/idiot\n",
        "epub2txt -r idiot > idiot.txt\n",
        "```\n",
        "\n"
      ],
      "metadata": {
        "id": "Gt3aNpPCz84g"
      }
    },
    {
      "cell_type": "markdown",
      "source": [
        "## Preprocessing text"
      ],
      "metadata": {
        "id": "cOUHWH_PvtdB"
      }
    },
    {
      "cell_type": "code",
      "source": [
        "punctuation += \"«»„“”‛’—–‒\"\n",
        "RE_PUNCT = re.compile(f\"[{re.escape(punctuation)}]\")\n",
        "\n",
        "\n",
        "def clean(line):\n",
        "  sents = nltk.sent_tokenize(line, language=\"russian\")\n",
        "  sents_p = [re.sub(RE_PUNCT, \" \", s) for s in sents]\n",
        "  sents_s = [re.sub(r\"\\s+\", \" \", s).lower().strip() for s in sents_p]\n",
        "  return sents_s\n",
        "\n",
        "\n",
        "sentences = []\n",
        "with open(\"idiot.txt\") as corpus:\n",
        "  for i, line in tqdm(enumerate(corpus)):\n",
        "    # top 15 lines are the header with annotation etc.\n",
        "    if i < 15:\n",
        "      continue\n",
        "    if len(line.strip()) > 0:\n",
        "      sentences.extend(clean(line))\n",
        "\n",
        "all_chars = sorted(list(set(\"\".join(sentences))))\n",
        "seq_len = 100"
      ],
      "metadata": {
        "colab": {
          "base_uri": "https://localhost:8080/"
        },
        "id": "XOMk3yhK8yNS",
        "outputId": "5a54cd29-5f80-4965-d19d-99c6c840d936"
      },
      "execution_count": 17,
      "outputs": [
        {
          "output_type": "stream",
          "name": "stderr",
          "text": [
            "9084it [00:00, 12000.70it/s]\n"
          ]
        }
      ]
    },
    {
      "cell_type": "code",
      "source": [
        "sentences[:3]"
      ],
      "metadata": {
        "colab": {
          "base_uri": "https://localhost:8080/"
        },
        "id": "K8uKJSHT3e48",
        "outputId": "5ed06f1e-6b22-4a5e-bf92-792cf819a3a5"
      },
      "execution_count": 18,
      "outputs": [
        {
          "output_type": "execute_result",
          "data": {
            "text/plain": [
              "['i',\n",
              " 'в конце ноября в оттепель часов в девять утра поезд петербургско варшавской железной дороги на всех парах подходил к петербургу',\n",
              " 'было так сыро и туманно что насилу рассвело в десяти шагах вправо и влево от дороги трудно было разглядеть хоть что нибудь из окон вагона']"
            ]
          },
          "metadata": {},
          "execution_count": 18
        }
      ]
    },
    {
      "cell_type": "code",
      "source": [
        "torch.manual_seed(1)\n",
        "torch.cuda.manual_seed(1)\n",
        "\n",
        "class CharModel(nn.Module):\n",
        "    def __init__(self, vocab_size, emb_size, hid_size=256) -> None:\n",
        "        super().__init__()\n",
        "        self.emb = nn.Embedding(vocab_size, emb_size)\n",
        "        self.lstm = nn.LSTM(\n",
        "            emb_size,\n",
        "            hid_size,\n",
        "            num_layers=2,\n",
        "            batch_first=True,\n",
        "            dropout=0.2,\n",
        "            bidirectional=True,\n",
        "        )\n",
        "        self.dropout = nn.Dropout(0.2)\n",
        "        self.activation = nn.Softmax(dim=-1)\n",
        "        self.linear = nn.Linear(hid_size * 2, vocab_size)\n",
        "\n",
        "    def forward(self, x):\n",
        "        x = self.emb(x)\n",
        "        x, _ = self.lstm(x)\n",
        "        x = x[:, -1, :]\n",
        "        x = self.linear(self.activation(self.dropout(x)))\n",
        "        return x\n",
        "\n",
        "\n",
        "model = CharModel(vocab_size=len(all_chars), emb_size=seq_len)\n",
        "model.cuda()\n",
        "loss_fn = nn.CrossEntropyLoss()\n",
        "optimizer = torch.optim.AdamW(model.parameters())"
      ],
      "metadata": {
        "id": "4Ebty2yU81jX"
      },
      "execution_count": 19,
      "outputs": []
    },
    {
      "cell_type": "code",
      "source": [
        "X_s = []\n",
        "y_s = []\n",
        "for sent in tqdm(sentences):\n",
        "    for i in range(len(sent) - seq_len):\n",
        "        seq = sent[i : i + seq_len]\n",
        "        X = [all_chars.index(c) for c in seq]\n",
        "        y = all_chars.index(sent[i + seq_len])\n",
        "        X_s.append(X)\n",
        "        y_s.append(y)\n",
        "\n",
        "\n",
        "# X_s = np.array(X_s) / len(all_chars)\n",
        "# y_s = np.array(y_s) / len(all_chars)\n",
        "dataset = TensorDataset(torch.tensor(X_s), torch.tensor(y_s))\n",
        "\n",
        "train_set, test_set = train_test_split(dataset, test_size=0.15)"
      ],
      "metadata": {
        "colab": {
          "base_uri": "https://localhost:8080/"
        },
        "id": "gTvSANAs9USn",
        "outputId": "4f364bd6-99bb-416f-a934-f06956f6ed50"
      },
      "execution_count": 20,
      "outputs": [
        {
          "output_type": "stream",
          "name": "stderr",
          "text": [
            "100%|██████████| 14418/14418 [00:33<00:00, 434.11it/s]\n"
          ]
        }
      ]
    },
    {
      "cell_type": "code",
      "source": [
        "n_epochs = 5\n",
        "batch_size = 64\n",
        "log_steps = 10000\n",
        "\n",
        "train_loader = DataLoader(train_set, shuffle=True, batch_size=batch_size)\n",
        "test_loader = DataLoader(test_set, shuffle=False, batch_size=batch_size)"
      ],
      "metadata": {
        "id": "b8vXh-Rca8hI"
      },
      "execution_count": 21,
      "outputs": []
    },
    {
      "cell_type": "code",
      "source": [
        "step = 0\n",
        "for e in range(n_epochs):\n",
        "  model.train()\n",
        "  for batch in train_loader:\n",
        "    inputs, truth = (t.to(\"cuda\") for t in batch)\n",
        "    pred = model(inputs)\n",
        "    loss = loss_fn(pred, truth)\n",
        "    loss.backward()\n",
        "    optimizer.step()\n",
        "    optimizer.zero_grad()\n",
        "    step += 1\n",
        "    if step % log_steps == 0:\n",
        "      print(f\"Step={step} {loss=:.4f}\")\n",
        "  model.eval()\n",
        "  eval_loss = 0\n",
        "  for batch in test_loader:\n",
        "    inputs, truth = (t.to(\"cuda\") for t in batch)\n",
        "    with torch.no_grad():\n",
        "      pred = model(inputs)\n",
        "      loss = loss_fn(pred, truth)\n",
        "    eval_loss += loss.detach().cpu().item()\n",
        "  eval_loss /= len(test_loader)\n",
        "  print(f\"=== Epoch {e} eval loss: {eval_loss:.4f} ===\")"
      ],
      "metadata": {
        "id": "yigWIR9I9XB1"
      },
      "execution_count": null,
      "outputs": []
    },
    {
      "cell_type": "code",
      "source": [],
      "metadata": {
        "id": "9XZdNIhucucv"
      },
      "execution_count": null,
      "outputs": []
    }
  ]
}